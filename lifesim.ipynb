{
 "cells": [
  {
   "cell_type": "code",
   "id": "initial_id",
   "metadata": {
    "collapsed": true,
    "ExecuteTime": {
     "end_time": "2025-05-22T17:48:18.102633Z",
     "start_time": "2025-05-22T17:48:16.856868Z"
    }
   },
   "source": [
    "import numpy as np\n",
    "import matplotlib.pyplot as plt\n",
    "import lifesim\n"
   ],
   "outputs": [],
   "execution_count": 4
  },
  {
   "metadata": {
    "ExecuteTime": {
     "end_time": "2025-05-22T17:48:19.430265Z",
     "start_time": "2025-05-22T17:48:19.426906Z"
    }
   },
   "cell_type": "code",
   "source": [
    "#LIFEsim is capable of taking an artificial exoplanet catalog input from P-Pop, calculate the signal-to-noise ratio for each planet and distribute the observation time available in the search phase to observe and detect an optimal number of exoplanets\n",
    "\n",
    "# Create an instance to save all data and parameters in a single location\n",
    "bus = lifesim.Bus()\n",
    "\n",
    "# Set the parameters to the baseline case by running\n",
    "bus.data.options.set_scenario('baseline')\n"
   ],
   "id": "42baf07eb73acbd3",
   "outputs": [],
   "execution_count": 5
  },
  {
   "metadata": {
    "ExecuteTime": {
     "end_time": "2025-05-22T19:29:03.222759Z",
     "start_time": "2025-05-22T19:28:57.475321Z"
    }
   },
   "cell_type": "code",
   "source": [
    "# A example synthetic planet population based on statistics from the Kepler mission can be downloaded from the P-Pop github page\n",
    "filename = '/home/pujitha/PycharmProjects/lifesim/TestPlanetPopulation.txt'\n",
    "\n",
    "#P-Pop catalog can be loaded i\n",
    "bus.data.catalog_from_ppop(filename)"
   ],
   "id": "addc2ffd4658294f",
   "outputs": [
    {
     "name": "stdout",
     "output_type": "stream",
     "text": [
      "Processed line 45884 of 45884\n"
     ]
    }
   ],
   "execution_count": 8
  },
  {
   "metadata": {
    "ExecuteTime": {
     "end_time": "2025-05-22T19:31:32.485572Z",
     "start_time": "2025-05-22T19:31:32.481515Z"
    }
   },
   "cell_type": "code",
   "source": [
    "#an instance of the LIFEsim instrument module needs to be created\n",
    "instrument = lifesim.Instrument(name='inst')\n"
   ],
   "id": "be8e922c22af6ebd",
   "outputs": [],
   "execution_count": 12
  },
  {
   "metadata": {
    "ExecuteTime": {
     "end_time": "2025-05-22T19:47:59.524573Z",
     "start_time": "2025-05-22T19:47:59.521035Z"
    }
   },
   "cell_type": "code",
   "source": [
    "#To give any module access to the data and parameters used in a simulation, it needs to be connected to the bus\n",
    "#bus.add_module(instrument)\n"
   ],
   "id": "6834696bba689c8f",
   "outputs": [],
   "execution_count": 31
  },
  {
   "metadata": {
    "ExecuteTime": {
     "end_time": "2025-05-22T19:36:50.904756Z",
     "start_time": "2025-05-22T19:36:50.900274Z"
    }
   },
   "cell_type": "code",
   "source": [
    "#All modules needed for the instrument module to run need to be created. Create the module responsible for simulating transmission maps of a four-arm nulling interferometer and add it to the bus\n",
    "transm = lifesim.TransmissionMap(name='transm')\n",
    "bus.add_module(transm)"
   ],
   "id": "d4aa98af208e71e3",
   "outputs": [],
   "execution_count": 19
  },
  {
   "metadata": {
    "ExecuteTime": {
     "end_time": "2025-05-22T19:35:15.259856Z",
     "start_time": "2025-05-22T19:35:15.254541Z"
    }
   },
   "cell_type": "code",
   "source": [
    "#create the modules for the simulation of the astrophysical noise sources and add them to the bus.\n",
    "exozodi = lifesim.PhotonNoiseExozodi(name='exo')\n",
    "bus.add_module(exozodi)\n",
    "localzodi = lifesim.PhotonNoiseLocalzodi(name='local')\n",
    "bus.add_module(localzodi)\n",
    "star_leak = lifesim.PhotonNoiseStar(name='star')\n",
    "bus.add_module(star_leak)"
   ],
   "id": "d00af2c0c4a8ad08",
   "outputs": [],
   "execution_count": 15
  },
  {
   "metadata": {
    "ExecuteTime": {
     "end_time": "2025-05-22T19:38:32.333439Z",
     "start_time": "2025-05-22T19:38:32.328200Z"
    }
   },
   "cell_type": "code",
   "source": [
    "bus.connect(('inst', 'transm'))\n",
    "bus.connect(('inst', 'exo'))\n",
    "bus.connect(('inst', 'local'))\n",
    "bus.connect(('inst', 'star'))\n",
    "\n",
    "bus.connect(('star', 'transm'))"
   ],
   "id": "9fdb69551148fce1",
   "outputs": [],
   "execution_count": 22
  },
  {
   "metadata": {
    "ExecuteTime": {
     "end_time": "2025-05-22T19:38:47.327815Z",
     "start_time": "2025-05-22T19:38:47.322494Z"
    }
   },
   "cell_type": "code",
   "source": [
    "#The optimizer is responsible for distributing the available observing time onto the individual stars. Analogously to above, we have\n",
    "\n",
    "opt = lifesim.Optimizer(name='opt')\n",
    "bus.add_module(opt)\n",
    "ahgs = lifesim.AhgsModule(name='ahgs')\n",
    "bus.add_module(ahgs)\n",
    "\n",
    "bus.connect(('transm', 'opt'))\n",
    "bus.connect(('inst', 'opt'))\n",
    "bus.connect(('opt', 'ahgs'))"
   ],
   "id": "c9a88399191da9ef",
   "outputs": [],
   "execution_count": 23
  },
  {
   "metadata": {
    "ExecuteTime": {
     "end_time": "2025-05-22T19:44:50.150432Z",
     "start_time": "2025-05-22T19:39:05.267710Z"
    }
   },
   "cell_type": "code",
   "source": [
    "#the signal-to-noise ratio needs to be calculated for every planet in the catalog. To do so, we run\n",
    "instrument.get_snr()\n"
   ],
   "id": "bbf361c7ac5593f3",
   "outputs": [
    {
     "name": "stderr",
     "output_type": "stream",
     "text": [
      "100%|██████████| 1732/1732 [05:44<00:00,  5.02it/s]\n"
     ]
    }
   ],
   "execution_count": 24
  },
  {
   "metadata": {},
   "cell_type": "code",
   "source": [
    "#Saving the Results\n",
    "\n",
    "bus.data.export_catalog(output_path = '/home/pujitha/PycharmProjects/lifesim/filename.hdf5')\n"
   ],
   "id": "ff47629724fe2c27",
   "outputs": [],
   "execution_count": null
  }
 ],
 "metadata": {
  "kernelspec": {
   "display_name": "Python 3",
   "language": "python",
   "name": "python3"
  },
  "language_info": {
   "codemirror_mode": {
    "name": "ipython",
    "version": 2
   },
   "file_extension": ".py",
   "mimetype": "text/x-python",
   "name": "python",
   "nbconvert_exporter": "python",
   "pygments_lexer": "ipython2",
   "version": "2.7.6"
  }
 },
 "nbformat": 4,
 "nbformat_minor": 5
}
